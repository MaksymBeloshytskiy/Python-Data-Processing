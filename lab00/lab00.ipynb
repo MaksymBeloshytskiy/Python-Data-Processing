{
 "cells": [
  {
   "cell_type": "markdown",
   "id": "91f24b33-6f31-4751-91cd-49009336972a",
   "metadata": {},
   "source": [
    "# Georgia: A Beautiful Country in Europe"
   ]
  },
  {
   "cell_type": "markdown",
   "id": "0b9c1934-27aa-4f6e-8759-2b8852a30cd2",
   "metadata": {},
   "source": [
    "## General Information\n",
    "<span style=\"color: white; font-weight: bold\" >Ge</span><span style=\"color: red; font-weight: bold\" >org</span><span style=\"color: white; font-weight: bold\" >ia</span> is a country located at the intersection of Europe and Asia. It is known for its rich history, diverse culture, and stunning landscapes.\n",
    "\n",
    "<a href=\"https://en.wikipedia.org/wiki/Georgia_(country)\">Visit Wikipedia</a> for details"
   ]
  },
  {
   "cell_type": "markdown",
   "id": "4fcf438c-1fe9-4140-936a-6fa5911059d7",
   "metadata": {},
   "source": [
    "### **Key Facts**\n",
    "- **Capital:** Tbilisi\n",
    "- **Area:** 69,700 km²\n",
    "- **Population:** 3.7 million\n",
    "- **Official Language:** Georgian\n",
    "- **Currency:** Georgian Lari (GEL)"
   ]
  },
  {
   "cell_type": "markdown",
   "id": "79f83e9e-043d-43a9-b0b3-1081dc18c110",
   "metadata": {},
   "source": [
    "### **State System**\n",
    "- **Government Type:** Unitary parliamentary republic\n",
    "- **President:** Salome Zourabichvili\n",
    "- **Prime Minister:** Irakli Garibashvili"
   ]
  },
  {
   "cell_type": "markdown",
   "id": "58feafac-a807-4afc-8776-7e44bedbe9c9",
   "metadata": {},
   "source": [
    "## **Famous Persons**\n",
    "1. **Joseph Stalin** (Soviet leader)\n",
    "2. **Nino Katamadze** (Singer)\n",
    "3. **Tamar the Great** (Historical queen)"
   ]
  },
  {
   "cell_type": "markdown",
   "id": "2d24b110-06cd-496e-9585-980ff75d1ac6",
   "metadata": {},
   "source": [
    "## **Cultural Sightseeing**\n",
    "- **Uplistsikhe:** Ancient rock-hewn town\n",
    "- **Svetitskhoveli Cathedral:** Religious center of Georgia\n",
    "- **Gergeti Trinity Church:** Stunning hilltop church with a view of Mount Kazbek\n"
   ]
  },
  {
   "cell_type": "markdown",
   "id": "52b4d4d2-2ea2-4300-aecb-821e77a5f506",
   "metadata": {},
   "source": [
    "### **Nature**\n",
    "- **Caucasus Mountains:** Perfect for hiking and skiing\n",
    "- **Black Sea Coast:** Beautiful beaches and resorts\n",
    "- **Borjomi:** Famous for its mineral water springs"
   ]
  },
  {
   "cell_type": "markdown",
   "id": "a8d101a8-082a-4c0a-aeb6-3219756cc34d",
   "metadata": {},
   "source": [
    "### **Flag of Georgia**"
   ]
  },
  {
   "cell_type": "code",
   "execution_count": 12,
   "id": "11784e77-7bd6-422c-8407-1e8891ec5b95",
   "metadata": {},
   "outputs": [
    {
     "data": {
      "text/html": [
       "\n",
       "<svg xmlns=\"http://www.w3.org/2000/svg\" xmlns:xlink=\"http://www.w3.org/1999/xlink\" width=\"900\" height=\"600\" viewBox=\"0 0 30 20\" fill=\"#f00\">\n",
       "\t<title>Flag of Georgia</title>\n",
       "\t<path fill=\"#fff\" d=\"m0 0h30v20H0z\"/>\n",
       "\t<path d=\"m13 0h4v20h-4zM0 8h30v4H0z\"/>\n",
       "\t<g id=\"c\">\n",
       "\t\t<g id=\"b\">\n",
       "\t\t\t<path id=\"a\" d=\"m5.7968 1.954a5.4 5.4 0 0 0 1.4064 0 10.4 10.4 0 0 0 0 4.092 5.4 5.4 0 0 0-1.4064 0 10.4 10.4 0 0 0 0-4.092z\"/>\n",
       "\t\t\t<use transform=\"rotate(90,6.5,4)\" xlink:href=\"#a\"/>\n",
       "\t\t</g>\n",
       "\t\t<use x=\"17\" xlink:href=\"#b\"/>\n",
       "\t</g>\n",
       "\t<use y=\"12\" xlink:href=\"#c\"/>\n",
       "</svg>\n"
      ],
      "text/plain": [
       "<IPython.core.display.HTML object>"
      ]
     },
     "execution_count": 12,
     "metadata": {},
     "output_type": "execute_result"
    }
   ],
   "source": [
    "from IPython.display import HTML\n",
    "\n",
    "svg_code = \"\"\"\n",
    "<svg xmlns=\"http://www.w3.org/2000/svg\" xmlns:xlink=\"http://www.w3.org/1999/xlink\" width=\"900\" height=\"600\" viewBox=\"0 0 30 20\" fill=\"#f00\">\n",
    "\t<title>Flag of Georgia</title>\n",
    "\t<path fill=\"#fff\" d=\"m0 0h30v20H0z\"/>\n",
    "\t<path d=\"m13 0h4v20h-4zM0 8h30v4H0z\"/>\n",
    "\t<g id=\"c\">\n",
    "\t\t<g id=\"b\">\n",
    "\t\t\t<path id=\"a\" d=\"m5.7968 1.954a5.4 5.4 0 0 0 1.4064 0 10.4 10.4 0 0 0 0 4.092 5.4 5.4 0 0 0-1.4064 0 10.4 10.4 0 0 0 0-4.092z\"/>\n",
    "\t\t\t<use transform=\"rotate(90,6.5,4)\" xlink:href=\"#a\"/>\n",
    "\t\t</g>\n",
    "\t\t<use x=\"17\" xlink:href=\"#b\"/>\n",
    "\t</g>\n",
    "\t<use y=\"12\" xlink:href=\"#c\"/>\n",
    "</svg>\n",
    "\"\"\"\n",
    "\n",
    "HTML(svg_code)\n"
   ]
  },
  {
   "cell_type": "markdown",
   "id": "64c6f686-2728-4c79-a669-86029933f801",
   "metadata": {},
   "source": [
    "## General info table"
   ]
  },
  {
   "cell_type": "code",
   "execution_count": 14,
   "id": "c8c30d0e-dfaf-4e7e-be16-52e40603cd47",
   "metadata": {},
   "outputs": [
    {
     "data": {
      "text/html": [
       "<div>\n",
       "<style scoped>\n",
       "    .dataframe tbody tr th:only-of-type {\n",
       "        vertical-align: middle;\n",
       "    }\n",
       "\n",
       "    .dataframe tbody tr th {\n",
       "        vertical-align: top;\n",
       "    }\n",
       "\n",
       "    .dataframe thead th {\n",
       "        text-align: right;\n",
       "    }\n",
       "</style>\n",
       "<table border=\"1\" class=\"dataframe\">\n",
       "  <thead>\n",
       "    <tr style=\"text-align: right;\">\n",
       "      <th></th>\n",
       "      <th>Feature</th>\n",
       "      <th>Details</th>\n",
       "    </tr>\n",
       "  </thead>\n",
       "  <tbody>\n",
       "    <tr>\n",
       "      <th>0</th>\n",
       "      <td>Capital</td>\n",
       "      <td>Tbilisi</td>\n",
       "    </tr>\n",
       "    <tr>\n",
       "      <th>1</th>\n",
       "      <td>Area</td>\n",
       "      <td>69,700 km²</td>\n",
       "    </tr>\n",
       "    <tr>\n",
       "      <th>2</th>\n",
       "      <td>Population</td>\n",
       "      <td>3.7 million</td>\n",
       "    </tr>\n",
       "    <tr>\n",
       "      <th>3</th>\n",
       "      <td>Official Language</td>\n",
       "      <td>Georgian</td>\n",
       "    </tr>\n",
       "    <tr>\n",
       "      <th>4</th>\n",
       "      <td>Currency</td>\n",
       "      <td>Georgian Lari (GEL)</td>\n",
       "    </tr>\n",
       "    <tr>\n",
       "      <th>5</th>\n",
       "      <td>Government Type</td>\n",
       "      <td>Unitary parliamentary republic</td>\n",
       "    </tr>\n",
       "  </tbody>\n",
       "</table>\n",
       "</div>"
      ],
      "text/plain": [
       "             Feature                         Details\n",
       "0            Capital                         Tbilisi\n",
       "1               Area                      69,700 km²\n",
       "2         Population                     3.7 million\n",
       "3  Official Language                        Georgian\n",
       "4           Currency             Georgian Lari (GEL)\n",
       "5    Government Type  Unitary parliamentary republic"
      ]
     },
     "execution_count": 14,
     "metadata": {},
     "output_type": "execute_result"
    }
   ],
   "source": [
    "import pandas as pd\n",
    "\n",
    "# Create a dictionary with the data\n",
    "data = {\n",
    "    \"Feature\": [\"Capital\", \"Area\", \"Population\", \"Official Language\", \"Currency\", \"Government Type\"],\n",
    "    \"Details\": [\"Tbilisi\", \"69,700 km²\", \"3.7 million\", \"Georgian\", \"Georgian Lari (GEL)\", \"Unitary parliamentary republic\"]\n",
    "}\n",
    "\n",
    "# Create a DataFrame\n",
    "df = pd.DataFrame(data)\n",
    "\n",
    "# Display the table\n",
    "df\n"
   ]
  },
  {
   "cell_type": "markdown",
   "id": "3c92e014-dbfa-4bf2-92b7-47a4fa13670f",
   "metadata": {},
   "source": [
    "## Sorting Algorithm"
   ]
  },
  {
   "cell_type": "code",
   "execution_count": 15,
   "id": "ac37d065-bead-4ebe-bcbd-8b9336a0aebd",
   "metadata": {},
   "outputs": [],
   "source": [
    "def gnome_sort_optimized(arr):\n",
    "    index = 0\n",
    "    n = len(arr)\n",
    "    \n",
    "    while index < n:\n",
    "        if index == 0 or arr[index] >= arr[index - 1]:\n",
    "            index += 1\n",
    "        else:\n",
    "            arr[index], arr[index - 1] = arr[index - 1], arr[index]\n",
    "            index -= 1\n",
    "\n",
    "    return arr"
   ]
  },
  {
   "cell_type": "markdown",
   "id": "11d03c4f-d97a-4720-adaa-5532d1543517",
   "metadata": {},
   "source": [
    "#### Some data and opperational call"
   ]
  },
  {
   "cell_type": "code",
   "execution_count": 19,
   "id": "2c9fe11e-1080-44b9-b0f8-9aa74aa48e6c",
   "metadata": {
    "scrolled": true
   },
   "outputs": [
    {
     "name": "stdout",
     "output_type": "stream",
     "text": [
      "3.7 million - Population\n",
      "69,700 km² - Area\n",
      "Borjomi - Nature\n",
      "Caucasus Mountains - Nature\n",
      "Joseph Stalin - Famous Person\n",
      "Svetitskhoveli Cathedral - Cultural Sightseeing\n",
      "Tbilisi - Capital\n",
      "Unitary republic - Government Type\n"
     ]
    }
   ],
   "source": [
    "data = [\n",
    "    \"Tbilisi - Capital\",\n",
    "    \"69,700 km² - Area\",\n",
    "    \"3.7 million - Population\",\n",
    "    \"Caucasus Mountains - Nature\",\n",
    "    \"Borjomi - Nature\",\n",
    "    \"Joseph Stalin - Famous Person\",\n",
    "    \"Svetitskhoveli Cathedral - Cultural Sightseeing\",\n",
    "    \"Unitary republic - Government Type\"\n",
    "]\n",
    "\n",
    "sorted_data = gnome_sort_optimized(data)\n",
    "\n",
    "for item in sorted_data:\n",
    "    print(item)"
   ]
  }
 ],
 "metadata": {
  "kernelspec": {
   "display_name": "Python 3 (ipykernel)",
   "language": "python",
   "name": "python3"
  },
  "language_info": {
   "codemirror_mode": {
    "name": "ipython",
    "version": 3
   },
   "file_extension": ".py",
   "mimetype": "text/x-python",
   "name": "python",
   "nbconvert_exporter": "python",
   "pygments_lexer": "ipython3",
   "version": "3.12.3"
  }
 },
 "nbformat": 4,
 "nbformat_minor": 5
}
