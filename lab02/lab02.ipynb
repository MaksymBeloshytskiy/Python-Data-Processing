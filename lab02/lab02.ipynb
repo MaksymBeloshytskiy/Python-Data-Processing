{
 "cells": [
  {
   "cell_type": "code",
   "execution_count": 1,
   "id": "9e9758a5-c892-4a89-9584-42a62b430267",
   "metadata": {},
   "outputs": [
    {
     "name": "stdout",
     "output_type": "stream",
     "text": [
      "Варіант: 1\n"
     ]
    }
   ],
   "source": [
    "N = (1 + 4) % 5 + 1\n",
    "print(\"Варіант:\", N)"
   ]
  },
  {
   "cell_type": "markdown",
   "id": "cbe66815-1fb9-445a-8169-2bc1d2234865",
   "metadata": {},
   "source": [
    "## Завдання 1\n",
    "#### Обрати перші 8 рядків з набору даних"
   ]
  },
  {
   "cell_type": "code",
   "execution_count": 2,
   "id": "36404392-3f2d-4707-853a-a96e744d2e9c",
   "metadata": {},
   "outputs": [
    {
     "data": {
      "text/html": [
       "<div>\n",
       "<style scoped>\n",
       "    .dataframe tbody tr th:only-of-type {\n",
       "        vertical-align: middle;\n",
       "    }\n",
       "\n",
       "    .dataframe tbody tr th {\n",
       "        vertical-align: top;\n",
       "    }\n",
       "\n",
       "    .dataframe thead th {\n",
       "        text-align: right;\n",
       "    }\n",
       "</style>\n",
       "<table border=\"1\" class=\"dataframe\">\n",
       "  <thead>\n",
       "    <tr style=\"text-align: right;\">\n",
       "      <th></th>\n",
       "      <th>Id</th>\n",
       "      <th>Name</th>\n",
       "      <th>Year</th>\n",
       "      <th>Gender</th>\n",
       "      <th>Count</th>\n",
       "    </tr>\n",
       "  </thead>\n",
       "  <tbody>\n",
       "    <tr>\n",
       "      <th>0</th>\n",
       "      <td>1</td>\n",
       "      <td>Mary</td>\n",
       "      <td>1880</td>\n",
       "      <td>F</td>\n",
       "      <td>7065</td>\n",
       "    </tr>\n",
       "    <tr>\n",
       "      <th>1</th>\n",
       "      <td>2</td>\n",
       "      <td>Anna</td>\n",
       "      <td>1880</td>\n",
       "      <td>F</td>\n",
       "      <td>2604</td>\n",
       "    </tr>\n",
       "    <tr>\n",
       "      <th>2</th>\n",
       "      <td>3</td>\n",
       "      <td>Emma</td>\n",
       "      <td>1880</td>\n",
       "      <td>F</td>\n",
       "      <td>2003</td>\n",
       "    </tr>\n",
       "    <tr>\n",
       "      <th>3</th>\n",
       "      <td>4</td>\n",
       "      <td>Elizabeth</td>\n",
       "      <td>1880</td>\n",
       "      <td>F</td>\n",
       "      <td>1939</td>\n",
       "    </tr>\n",
       "    <tr>\n",
       "      <th>4</th>\n",
       "      <td>5</td>\n",
       "      <td>Minnie</td>\n",
       "      <td>1880</td>\n",
       "      <td>F</td>\n",
       "      <td>1746</td>\n",
       "    </tr>\n",
       "    <tr>\n",
       "      <th>5</th>\n",
       "      <td>6</td>\n",
       "      <td>Margaret</td>\n",
       "      <td>1880</td>\n",
       "      <td>F</td>\n",
       "      <td>1578</td>\n",
       "    </tr>\n",
       "    <tr>\n",
       "      <th>6</th>\n",
       "      <td>7</td>\n",
       "      <td>Ida</td>\n",
       "      <td>1880</td>\n",
       "      <td>F</td>\n",
       "      <td>1472</td>\n",
       "    </tr>\n",
       "    <tr>\n",
       "      <th>7</th>\n",
       "      <td>8</td>\n",
       "      <td>Alice</td>\n",
       "      <td>1880</td>\n",
       "      <td>F</td>\n",
       "      <td>1414</td>\n",
       "    </tr>\n",
       "  </tbody>\n",
       "</table>\n",
       "</div>"
      ],
      "text/plain": [
       "   Id       Name  Year Gender  Count\n",
       "0   1       Mary  1880      F   7065\n",
       "1   2       Anna  1880      F   2604\n",
       "2   3       Emma  1880      F   2003\n",
       "3   4  Elizabeth  1880      F   1939\n",
       "4   5     Minnie  1880      F   1746\n",
       "5   6   Margaret  1880      F   1578\n",
       "6   7        Ida  1880      F   1472\n",
       "7   8      Alice  1880      F   1414"
      ]
     },
     "metadata": {},
     "output_type": "display_data"
    }
   ],
   "source": [
    "import pandas as pd\n",
    "from IPython.display import display\n",
    "\n",
    "# Читач CSV\n",
    "df = pd.read_csv('./NationalNames.csv')\n",
    "\n",
    "# Універсальна функція для читання CSV файлу\n",
    "def load_csv(df, start=None, end=None):\n",
    "    \"\"\"\n",
    "    Load a CSV file and return a DataFrame slice.\n",
    "    \n",
    "    Parameters:\n",
    "    df (str): CSV reader.\n",
    "    start (int): The starting index for the slice (optional).\n",
    "    end (int): The ending index for the slice (optional).\n",
    "    \n",
    "    Returns:\n",
    "    pd.DataFrame: The sliced DataFrame.\n",
    "    \"\"\"\n",
    "    # Якщо start та end вказані, повертає зріз\n",
    "    if start is not None or end is not None:\n",
    "        return df[start:end]\n",
    "    return df\n",
    "\n",
    "# Використання функції для відображення перших 8 рядків\n",
    "first_8_rows = load_csv(df, start=0, end=8)\n",
    "\n",
    "# Табличне відображення даних\n",
    "display(first_8_rows)\n"
   ]
  },
  {
   "cell_type": "markdown",
   "id": "58f60703-d609-4773-924f-c5b28a1f1c89",
   "metadata": {},
   "source": [
    "## Завдання 2\n",
    "#### Обрати останні 8 радків з набору даних"
   ]
  },
  {
   "cell_type": "code",
   "execution_count": 3,
   "id": "dd4e8ef5-33e2-42da-a503-e876ddbb4219",
   "metadata": {},
   "outputs": [
    {
     "data": {
      "text/html": [
       "<div>\n",
       "<style scoped>\n",
       "    .dataframe tbody tr th:only-of-type {\n",
       "        vertical-align: middle;\n",
       "    }\n",
       "\n",
       "    .dataframe tbody tr th {\n",
       "        vertical-align: top;\n",
       "    }\n",
       "\n",
       "    .dataframe thead th {\n",
       "        text-align: right;\n",
       "    }\n",
       "</style>\n",
       "<table border=\"1\" class=\"dataframe\">\n",
       "  <thead>\n",
       "    <tr style=\"text-align: right;\">\n",
       "      <th></th>\n",
       "      <th>Id</th>\n",
       "      <th>Name</th>\n",
       "      <th>Year</th>\n",
       "      <th>Gender</th>\n",
       "      <th>Count</th>\n",
       "    </tr>\n",
       "  </thead>\n",
       "  <tbody>\n",
       "    <tr>\n",
       "      <th>1825425</th>\n",
       "      <td>1825426</td>\n",
       "      <td>Zo</td>\n",
       "      <td>2014</td>\n",
       "      <td>M</td>\n",
       "      <td>5</td>\n",
       "    </tr>\n",
       "    <tr>\n",
       "      <th>1825426</th>\n",
       "      <td>1825427</td>\n",
       "      <td>Zyeir</td>\n",
       "      <td>2014</td>\n",
       "      <td>M</td>\n",
       "      <td>5</td>\n",
       "    </tr>\n",
       "    <tr>\n",
       "      <th>1825427</th>\n",
       "      <td>1825428</td>\n",
       "      <td>Zyel</td>\n",
       "      <td>2014</td>\n",
       "      <td>M</td>\n",
       "      <td>5</td>\n",
       "    </tr>\n",
       "    <tr>\n",
       "      <th>1825428</th>\n",
       "      <td>1825429</td>\n",
       "      <td>Zykeem</td>\n",
       "      <td>2014</td>\n",
       "      <td>M</td>\n",
       "      <td>5</td>\n",
       "    </tr>\n",
       "    <tr>\n",
       "      <th>1825429</th>\n",
       "      <td>1825430</td>\n",
       "      <td>Zymeer</td>\n",
       "      <td>2014</td>\n",
       "      <td>M</td>\n",
       "      <td>5</td>\n",
       "    </tr>\n",
       "    <tr>\n",
       "      <th>1825430</th>\n",
       "      <td>1825431</td>\n",
       "      <td>Zymiere</td>\n",
       "      <td>2014</td>\n",
       "      <td>M</td>\n",
       "      <td>5</td>\n",
       "    </tr>\n",
       "    <tr>\n",
       "      <th>1825431</th>\n",
       "      <td>1825432</td>\n",
       "      <td>Zyran</td>\n",
       "      <td>2014</td>\n",
       "      <td>M</td>\n",
       "      <td>5</td>\n",
       "    </tr>\n",
       "    <tr>\n",
       "      <th>1825432</th>\n",
       "      <td>1825433</td>\n",
       "      <td>Zyrin</td>\n",
       "      <td>2014</td>\n",
       "      <td>M</td>\n",
       "      <td>5</td>\n",
       "    </tr>\n",
       "  </tbody>\n",
       "</table>\n",
       "</div>"
      ],
      "text/plain": [
       "              Id     Name  Year Gender  Count\n",
       "1825425  1825426       Zo  2014      M      5\n",
       "1825426  1825427    Zyeir  2014      M      5\n",
       "1825427  1825428     Zyel  2014      M      5\n",
       "1825428  1825429   Zykeem  2014      M      5\n",
       "1825429  1825430   Zymeer  2014      M      5\n",
       "1825430  1825431  Zymiere  2014      M      5\n",
       "1825431  1825432    Zyran  2014      M      5\n",
       "1825432  1825433    Zyrin  2014      M      5"
      ]
     },
     "metadata": {},
     "output_type": "display_data"
    }
   ],
   "source": [
    "# Використання функції для відображення перших 8 рядків\n",
    "last_8_rows = load_csv(df, start=-8)\n",
    "\n",
    "# Табличне відображення даних\n",
    "display(last_8_rows)"
   ]
  },
  {
   "cell_type": "markdown",
   "id": "cd986046-832f-468d-abc6-bdc81ce38d95",
   "metadata": {},
   "source": [
    "## Завдання 3\n",
    "#### Повернути імена стовбців набору даних"
   ]
  },
  {
   "cell_type": "code",
   "execution_count": 4,
   "id": "2d9f6f5c-f5e6-420d-ab95-61bc4796f73d",
   "metadata": {},
   "outputs": [
    {
     "name": "stdout",
     "output_type": "stream",
     "text": [
      "['Id', 'Name', 'Year', 'Gender', 'Count']\n"
     ]
    }
   ],
   "source": [
    "column_names = df.columns.tolist()\n",
    "\n",
    "print(column_names)"
   ]
  },
  {
   "cell_type": "markdown",
   "id": "1e7de8af-9ea3-4d8e-9292-bd62f7d12539",
   "metadata": {},
   "source": [
    "## Завдання 4\n",
    "#### Знайти кількість унікальних імен в наборі даних"
   ]
  },
  {
   "cell_type": "code",
   "execution_count": 5,
   "id": "a78e031c-cd9f-4c4f-8da5-64e7019ed6bb",
   "metadata": {},
   "outputs": [
    {
     "name": "stdout",
     "output_type": "stream",
     "text": [
      "93889\n"
     ]
    }
   ],
   "source": [
    "unique_count = df['Name'].nunique()\n",
    "print(unique_count)"
   ]
  },
  {
   "cell_type": "markdown",
   "id": "90987768-da87-4a94-aae2-74f22ec3ade7",
   "metadata": {},
   "source": [
    "## Завдання 5\n",
    "#### Підрахунок унікальних імен у кожному році"
   ]
  },
  {
   "cell_type": "code",
   "execution_count": 6,
   "id": "b9d555a6-66b1-42b2-a643-d877a8353baf",
   "metadata": {},
   "outputs": [
    {
     "data": {
      "text/html": [
       "<div>\n",
       "<style scoped>\n",
       "    .dataframe tbody tr th:only-of-type {\n",
       "        vertical-align: middle;\n",
       "    }\n",
       "\n",
       "    .dataframe tbody tr th {\n",
       "        vertical-align: top;\n",
       "    }\n",
       "\n",
       "    .dataframe thead th {\n",
       "        text-align: right;\n",
       "    }\n",
       "</style>\n",
       "<table border=\"1\" class=\"dataframe\">\n",
       "  <thead>\n",
       "    <tr style=\"text-align: right;\">\n",
       "      <th></th>\n",
       "      <th>Name</th>\n",
       "    </tr>\n",
       "    <tr>\n",
       "      <th>Year</th>\n",
       "      <th></th>\n",
       "    </tr>\n",
       "  </thead>\n",
       "  <tbody>\n",
       "    <tr>\n",
       "      <th>1880</th>\n",
       "      <td>1889</td>\n",
       "    </tr>\n",
       "    <tr>\n",
       "      <th>1881</th>\n",
       "      <td>1830</td>\n",
       "    </tr>\n",
       "    <tr>\n",
       "      <th>1882</th>\n",
       "      <td>2012</td>\n",
       "    </tr>\n",
       "    <tr>\n",
       "      <th>1883</th>\n",
       "      <td>1962</td>\n",
       "    </tr>\n",
       "    <tr>\n",
       "      <th>1884</th>\n",
       "      <td>2158</td>\n",
       "    </tr>\n",
       "    <tr>\n",
       "      <th>...</th>\n",
       "      <td>...</td>\n",
       "    </tr>\n",
       "    <tr>\n",
       "      <th>2010</th>\n",
       "      <td>31603</td>\n",
       "    </tr>\n",
       "    <tr>\n",
       "      <th>2011</th>\n",
       "      <td>31418</td>\n",
       "    </tr>\n",
       "    <tr>\n",
       "      <th>2012</th>\n",
       "      <td>31236</td>\n",
       "    </tr>\n",
       "    <tr>\n",
       "      <th>2013</th>\n",
       "      <td>30774</td>\n",
       "    </tr>\n",
       "    <tr>\n",
       "      <th>2014</th>\n",
       "      <td>30579</td>\n",
       "    </tr>\n",
       "  </tbody>\n",
       "</table>\n",
       "<p>135 rows × 1 columns</p>\n",
       "</div>"
      ],
      "text/plain": [
       "       Name\n",
       "Year       \n",
       "1880   1889\n",
       "1881   1830\n",
       "1882   2012\n",
       "1883   1962\n",
       "1884   2158\n",
       "...     ...\n",
       "2010  31603\n",
       "2011  31418\n",
       "2012  31236\n",
       "2013  30774\n",
       "2014  30579\n",
       "\n",
       "[135 rows x 1 columns]"
      ]
     },
     "metadata": {},
     "output_type": "display_data"
    }
   ],
   "source": [
    "# Підрахунок кількості унікальних імен для кожного року\n",
    "unique_names_per_year = df.groupby('Year')['Name'].nunique().reset_index()\n",
    "\n",
    "# Перейменування стовпців для ясності\n",
    "unique_names_per_year.columns = ['Year', 'Name']\n",
    "\n",
    "# Встановлення 'Year' як індекса для зручного відображення\n",
    "unique_names_per_year.set_index('Year', inplace=True)\n",
    "\n",
    "# Табличне відображення даних\n",
    "display(unique_names_per_year)"
   ]
  },
  {
   "cell_type": "markdown",
   "id": "0bf81260-0b4a-41d3-a175-b6fd10a3a205",
   "metadata": {},
   "source": [
    "## Завдання 6\n",
    "#### Знайти рік із найбільшою кількістю унікальних імен"
   ]
  },
  {
   "cell_type": "code",
   "execution_count": 7,
   "id": "0e0579b7-4a2c-4d56-8079-a15c8f59dceb",
   "metadata": {},
   "outputs": [
    {
     "data": {
      "text/html": [
       "<div>\n",
       "<style scoped>\n",
       "    .dataframe tbody tr th:only-of-type {\n",
       "        vertical-align: middle;\n",
       "    }\n",
       "\n",
       "    .dataframe tbody tr th {\n",
       "        vertical-align: top;\n",
       "    }\n",
       "\n",
       "    .dataframe thead th {\n",
       "        text-align: right;\n",
       "    }\n",
       "</style>\n",
       "<table border=\"1\" class=\"dataframe\">\n",
       "  <thead>\n",
       "    <tr style=\"text-align: right;\">\n",
       "      <th></th>\n",
       "      <th>Name</th>\n",
       "    </tr>\n",
       "    <tr>\n",
       "      <th>Year</th>\n",
       "      <th></th>\n",
       "    </tr>\n",
       "  </thead>\n",
       "  <tbody>\n",
       "    <tr>\n",
       "      <th>2008</th>\n",
       "      <td>32488</td>\n",
       "    </tr>\n",
       "  </tbody>\n",
       "</table>\n",
       "</div>"
      ],
      "text/plain": [
       "       Name\n",
       "Year       \n",
       "2008  32488"
      ]
     },
     "metadata": {},
     "output_type": "display_data"
    }
   ],
   "source": [
    "year_with_max_unique_names = unique_names_per_year[unique_names_per_year['Name'] == unique_names_per_year['Name'].max()]\n",
    "\n",
    "display(year_with_max_unique_names)"
   ]
  },
  {
   "cell_type": "markdown",
   "id": "c2d4c79f-3a04-4d5c-a6db-f377532a6fd3",
   "metadata": {},
   "source": [
    "## Завдання 7\n",
    "#### Знайти найпопулярніше ім'я року з найбільшою кількістю популярних імен"
   ]
  },
  {
   "cell_type": "code",
   "execution_count": 8,
   "id": "feb34a90-308e-4cc0-80ac-d69d27deb9b8",
   "metadata": {},
   "outputs": [
    {
     "name": "stdout",
     "output_type": "stream",
     "text": [
      "Jacob\n"
     ]
    }
   ],
   "source": [
    "# Знаходимо рік з найбільшою кількістю унікальних імен і найпопулярніше ім'я в цьому році\n",
    "most_popular_name = df[df['Year'] == unique_names_per_year['Name'].idxmax()].sort_values(by='Count', ascending=False).iloc[0]['Name']\n",
    "\n",
    "print(most_popular_name)\n"
   ]
  },
  {
   "cell_type": "markdown",
   "id": "552b13d9-43ff-49ef-9147-f0a79668f4c3",
   "metadata": {},
   "source": [
    "## Завдання 8\n",
    "#### Знайти рік, коли ім'я \"Jacob\" було найпопулярнішим серед жіночих імен"
   ]
  },
  {
   "cell_type": "code",
   "execution_count": 9,
   "id": "2bb27c5d-6b00-4968-8c76-4e70033840dc",
   "metadata": {},
   "outputs": [
    {
     "data": {
      "text/html": [
       "<div>\n",
       "<style scoped>\n",
       "    .dataframe tbody tr th:only-of-type {\n",
       "        vertical-align: middle;\n",
       "    }\n",
       "\n",
       "    .dataframe tbody tr th {\n",
       "        vertical-align: top;\n",
       "    }\n",
       "\n",
       "    .dataframe thead th {\n",
       "        text-align: right;\n",
       "    }\n",
       "</style>\n",
       "<table border=\"1\" class=\"dataframe\">\n",
       "  <thead>\n",
       "    <tr style=\"text-align: right;\">\n",
       "      <th></th>\n",
       "      <th>Id</th>\n",
       "      <th>Name</th>\n",
       "      <th>Year</th>\n",
       "      <th>Gender</th>\n",
       "      <th>Count</th>\n",
       "    </tr>\n",
       "  </thead>\n",
       "  <tbody>\n",
       "    <tr>\n",
       "      <th>1455556</th>\n",
       "      <td>1455557</td>\n",
       "      <td>Jacob</td>\n",
       "      <td>2004</td>\n",
       "      <td>F</td>\n",
       "      <td>171</td>\n",
       "    </tr>\n",
       "  </tbody>\n",
       "</table>\n",
       "</div>"
      ],
      "text/plain": [
       "              Id   Name  Year Gender Count\n",
       "1455556  1455557  Jacob  2004      F   171"
      ]
     },
     "metadata": {},
     "output_type": "display_data"
    }
   ],
   "source": [
    "# Filter the data to include only rows where the name is \"Jacob\" and gender is \"F\"\n",
    "jacob_female_data = df[(df['Name'] == 'Jacob') & (df['Gender'] == 'F')]\n",
    "\n",
    "# Find the year when \"Jacob\" was most popular among female names based on the highest count\n",
    "most_popular_jacob_female = jacob_female_data.loc[jacob_female_data['Count'].idxmax()]\n",
    "\n",
    "# Display the entire row for complete information\n",
    "display(most_popular_jacob_female.to_frame().T)\n"
   ]
  },
  {
   "cell_type": "markdown",
   "id": "851f602d-dbe7-4de4-b44c-a1936f5b1f3a",
   "metadata": {},
   "source": [
    "## Завдання 9\n",
    "#### Знайти рік з найбільшою кількістю гендерно-нейтральних імен"
   ]
  },
  {
   "cell_type": "code",
   "execution_count": 10,
   "id": "6cec2a51-6081-421c-9d62-b250becf1028",
   "metadata": {},
   "outputs": [
    {
     "data": {
      "text/html": [
       "<div>\n",
       "<style scoped>\n",
       "    .dataframe tbody tr th:only-of-type {\n",
       "        vertical-align: middle;\n",
       "    }\n",
       "\n",
       "    .dataframe tbody tr th {\n",
       "        vertical-align: top;\n",
       "    }\n",
       "\n",
       "    .dataframe thead th {\n",
       "        text-align: right;\n",
       "    }\n",
       "</style>\n",
       "<table border=\"1\" class=\"dataframe\">\n",
       "  <thead>\n",
       "    <tr style=\"text-align: right;\">\n",
       "      <th></th>\n",
       "      <th>Gender_neutral_names</th>\n",
       "    </tr>\n",
       "    <tr>\n",
       "      <th>Year</th>\n",
       "      <th></th>\n",
       "    </tr>\n",
       "  </thead>\n",
       "  <tbody>\n",
       "    <tr>\n",
       "      <th>2008</th>\n",
       "      <td>2557</td>\n",
       "    </tr>\n",
       "  </tbody>\n",
       "</table>\n",
       "</div>"
      ],
      "text/plain": [
       "      Gender_neutral_names\n",
       "Year                      \n",
       "2008                  2557"
      ]
     },
     "metadata": {},
     "output_type": "display_data"
    }
   ],
   "source": [
    "# Визначаємо рік з найбільшою кількістю гендерно-нейтральних імен\n",
    "result_table = (\n",
    "    df.groupby(['Year', 'Name'])['Gender']\n",
    "    .nunique()\n",
    "    .reset_index()\n",
    "    .query('Gender == 2')  # Фільтруємо імена, які є гендерно-нейтральними\n",
    "    .groupby('Year')\n",
    "    .size()\n",
    "    .idxmax()  # Знаходимо рік з максимальною кількістю гендерно-нейтральних імен\n",
    ")\n",
    "\n",
    "# Отримуємо кількість гендерно-нейтральних імен для цього року\n",
    "max_count = (\n",
    "    df.groupby(['Year', 'Name'])['Gender']\n",
    "    .nunique()\n",
    "    .reset_index()\n",
    "    .query('Gender == 2')\n",
    "    .groupby('Year')\n",
    "    .size()\n",
    "    .max()\n",
    ")\n",
    "\n",
    "# Формуємо таблицю результатів\n",
    "final_result = pd.DataFrame({\n",
    "    'Year': [result_table],\n",
    "    'Gender_neutral_names': [max_count]\n",
    "}).set_index('Year')\n",
    "\n",
    "# Відображення таблиці\n",
    "display(final_result)"
   ]
  },
  {
   "cell_type": "markdown",
   "id": "fd8eb864-69da-4139-9953-c35a9b9bb0b5",
   "metadata": {},
   "source": [
    "## Завдання 10\n",
    "#### Знайти загальну кількість народжень за кожен рік"
   ]
  },
  {
   "cell_type": "code",
   "execution_count": 11,
   "id": "a985cbbe-9aae-45ed-b44a-5c3d185b232f",
   "metadata": {},
   "outputs": [
    {
     "data": {
      "text/html": [
       "<div>\n",
       "<style scoped>\n",
       "    .dataframe tbody tr th:only-of-type {\n",
       "        vertical-align: middle;\n",
       "    }\n",
       "\n",
       "    .dataframe tbody tr th {\n",
       "        vertical-align: top;\n",
       "    }\n",
       "\n",
       "    .dataframe thead th {\n",
       "        text-align: right;\n",
       "    }\n",
       "</style>\n",
       "<table border=\"1\" class=\"dataframe\">\n",
       "  <thead>\n",
       "    <tr style=\"text-align: right;\">\n",
       "      <th></th>\n",
       "      <th>Count</th>\n",
       "    </tr>\n",
       "    <tr>\n",
       "      <th>Year</th>\n",
       "      <th></th>\n",
       "    </tr>\n",
       "  </thead>\n",
       "  <tbody>\n",
       "    <tr>\n",
       "      <th>1880</th>\n",
       "      <td>201484</td>\n",
       "    </tr>\n",
       "    <tr>\n",
       "      <th>1881</th>\n",
       "      <td>192699</td>\n",
       "    </tr>\n",
       "    <tr>\n",
       "      <th>1882</th>\n",
       "      <td>221538</td>\n",
       "    </tr>\n",
       "    <tr>\n",
       "      <th>1883</th>\n",
       "      <td>216950</td>\n",
       "    </tr>\n",
       "    <tr>\n",
       "      <th>1884</th>\n",
       "      <td>243467</td>\n",
       "    </tr>\n",
       "    <tr>\n",
       "      <th>...</th>\n",
       "      <td>...</td>\n",
       "    </tr>\n",
       "    <tr>\n",
       "      <th>2010</th>\n",
       "      <td>3686589</td>\n",
       "    </tr>\n",
       "    <tr>\n",
       "      <th>2011</th>\n",
       "      <td>3646730</td>\n",
       "    </tr>\n",
       "    <tr>\n",
       "      <th>2012</th>\n",
       "      <td>3643336</td>\n",
       "    </tr>\n",
       "    <tr>\n",
       "      <th>2013</th>\n",
       "      <td>3626802</td>\n",
       "    </tr>\n",
       "    <tr>\n",
       "      <th>2014</th>\n",
       "      <td>3670151</td>\n",
       "    </tr>\n",
       "  </tbody>\n",
       "</table>\n",
       "<p>135 rows × 1 columns</p>\n",
       "</div>"
      ],
      "text/plain": [
       "        Count\n",
       "Year         \n",
       "1880   201484\n",
       "1881   192699\n",
       "1882   221538\n",
       "1883   216950\n",
       "1884   243467\n",
       "...       ...\n",
       "2010  3686589\n",
       "2011  3646730\n",
       "2012  3643336\n",
       "2013  3626802\n",
       "2014  3670151\n",
       "\n",
       "[135 rows x 1 columns]"
      ]
     },
     "metadata": {},
     "output_type": "display_data"
    }
   ],
   "source": [
    "# Calculate the total number of births per year by summing the 'Count' column for each year\n",
    "births_per_year = df.groupby('Year')['Count'].sum().reset_index()\n",
    "\n",
    "# Rename columns to match the desired format\n",
    "births_per_year.columns = ['Year', 'Count']\n",
    "\n",
    "# Set 'Year' as the index to resemble the requested table structure\n",
    "births_per_year.set_index('Year', inplace=True)\n",
    "\n",
    "# Display the table\n",
    "display(births_per_year)\n"
   ]
  },
  {
   "cell_type": "markdown",
   "id": "fb825803-4889-424d-ad70-abb8db9f0281",
   "metadata": {},
   "source": [
    "## Завдання 11\n",
    "#### Знайти і вивести рік найбільшої народжуваності "
   ]
  },
  {
   "cell_type": "code",
   "execution_count": 12,
   "id": "189a72b3-670b-4c15-bac2-a91fd5022e46",
   "metadata": {},
   "outputs": [
    {
     "name": "stdout",
     "output_type": "stream",
     "text": [
      "1957\n"
     ]
    }
   ],
   "source": [
    "year_with_max_births = births_per_year['Count'].idxmax()\n",
    "\n",
    "print(year_with_max_births)"
   ]
  },
  {
   "cell_type": "markdown",
   "id": "0def17fe-024f-4362-8507-cdc3b8a4656a",
   "metadata": {},
   "source": [
    "## Завдання 12\n",
    "#### Знайти і вивести всі роки з кількістю дівчат та хлопців"
   ]
  },
  {
   "cell_type": "code",
   "execution_count": 13,
   "id": "07b0ff64-86cb-4853-9ea7-209be5a83712",
   "metadata": {},
   "outputs": [
    {
     "data": {
      "text/html": [
       "<div>\n",
       "<style scoped>\n",
       "    .dataframe tbody tr th:only-of-type {\n",
       "        vertical-align: middle;\n",
       "    }\n",
       "\n",
       "    .dataframe tbody tr th {\n",
       "        vertical-align: top;\n",
       "    }\n",
       "\n",
       "    .dataframe thead th {\n",
       "        text-align: right;\n",
       "    }\n",
       "</style>\n",
       "<table border=\"1\" class=\"dataframe\">\n",
       "  <thead>\n",
       "    <tr style=\"text-align: right;\">\n",
       "      <th>Gender</th>\n",
       "      <th>F</th>\n",
       "      <th>M</th>\n",
       "    </tr>\n",
       "    <tr>\n",
       "      <th>Year</th>\n",
       "      <th></th>\n",
       "      <th></th>\n",
       "    </tr>\n",
       "  </thead>\n",
       "  <tbody>\n",
       "    <tr>\n",
       "      <th>1880</th>\n",
       "      <td>90993</td>\n",
       "      <td>110491</td>\n",
       "    </tr>\n",
       "    <tr>\n",
       "      <th>1881</th>\n",
       "      <td>91954</td>\n",
       "      <td>100745</td>\n",
       "    </tr>\n",
       "    <tr>\n",
       "      <th>1882</th>\n",
       "      <td>107850</td>\n",
       "      <td>113688</td>\n",
       "    </tr>\n",
       "    <tr>\n",
       "      <th>1883</th>\n",
       "      <td>112321</td>\n",
       "      <td>104629</td>\n",
       "    </tr>\n",
       "    <tr>\n",
       "      <th>1884</th>\n",
       "      <td>129022</td>\n",
       "      <td>114445</td>\n",
       "    </tr>\n",
       "    <tr>\n",
       "      <th>...</th>\n",
       "      <td>...</td>\n",
       "      <td>...</td>\n",
       "    </tr>\n",
       "    <tr>\n",
       "      <th>2010</th>\n",
       "      <td>1772738</td>\n",
       "      <td>1913851</td>\n",
       "    </tr>\n",
       "    <tr>\n",
       "      <th>2011</th>\n",
       "      <td>1753500</td>\n",
       "      <td>1893230</td>\n",
       "    </tr>\n",
       "    <tr>\n",
       "      <th>2012</th>\n",
       "      <td>1753922</td>\n",
       "      <td>1889414</td>\n",
       "    </tr>\n",
       "    <tr>\n",
       "      <th>2013</th>\n",
       "      <td>1745339</td>\n",
       "      <td>1881463</td>\n",
       "    </tr>\n",
       "    <tr>\n",
       "      <th>2014</th>\n",
       "      <td>1768775</td>\n",
       "      <td>1901376</td>\n",
       "    </tr>\n",
       "  </tbody>\n",
       "</table>\n",
       "<p>135 rows × 2 columns</p>\n",
       "</div>"
      ],
      "text/plain": [
       "Gender        F        M\n",
       "Year                    \n",
       "1880      90993   110491\n",
       "1881      91954   100745\n",
       "1882     107850   113688\n",
       "1883     112321   104629\n",
       "1884     129022   114445\n",
       "...         ...      ...\n",
       "2010    1772738  1913851\n",
       "2011    1753500  1893230\n",
       "2012    1753922  1889414\n",
       "2013    1745339  1881463\n",
       "2014    1768775  1901376\n",
       "\n",
       "[135 rows x 2 columns]"
      ]
     },
     "metadata": {},
     "output_type": "display_data"
    }
   ],
   "source": [
    "births_by_gender_per_year = df.pivot_table(values='Count', index='Year', columns='Gender', aggfunc='sum')\n",
    "\n",
    "display(births_by_gender_per_year)"
   ]
  },
  {
   "cell_type": "markdown",
   "id": "95e5663b-d752-44d0-90aa-4cff1b127bff",
   "metadata": {},
   "source": [
    "## Завдання 13\n",
    "#### Підрахувати кількість років коли дівчат народжувалось більше за хлопців"
   ]
  },
  {
   "cell_type": "code",
   "execution_count": 14,
   "id": "68adf68d-7e98-4e29-ae36-a288b5cf56ef",
   "metadata": {},
   "outputs": [
    {
     "name": "stdout",
     "output_type": "stream",
     "text": [
      "54\n"
     ]
    }
   ],
   "source": [
    "years_more_girls_than_boys = births_by_gender_per_year[births_by_gender_per_year['F'] > births_by_gender_per_year['M']].shape[0]\n",
    "\n",
    "print(years_more_girls_than_boys) "
   ]
  },
  {
   "cell_type": "markdown",
   "id": "9b924073-dc30-46a5-b083-d0e5a228b467",
   "metadata": {},
   "source": [
    "## Завдання 14\n",
    "#### Підрахувати кількість разів, коли хлопців називали ім'ям \"Barbara\""
   ]
  },
  {
   "cell_type": "code",
   "execution_count": 15,
   "id": "7fd0253f-81cb-422a-a411-4121973bf610",
   "metadata": {},
   "outputs": [
    {
     "name": "stdout",
     "output_type": "stream",
     "text": [
      "4139\n"
     ]
    }
   ],
   "source": [
    "barbara_male_count = df[(df['Name'] == 'Barbara') & (df['Gender'] == 'M')]['Count'].sum()\n",
    "\n",
    "print(barbara_male_count)"
   ]
  },
  {
   "cell_type": "markdown",
   "id": "10d8324e-fbd7-4019-8254-e2f5f182eaa5",
   "metadata": {},
   "source": [
    "## Завдання 15\n",
    "#### Підрахувати кількість років проведення спостережень"
   ]
  },
  {
   "cell_type": "code",
   "execution_count": 16,
   "id": "78dd8e98-f263-45d2-8c66-f03862b56ce4",
   "metadata": {},
   "outputs": [
    {
     "name": "stdout",
     "output_type": "stream",
     "text": [
      "Спостереження проводилось 135 років\n"
     ]
    }
   ],
   "source": [
    "years_of_observation = df['Year'].nunique()\n",
    "\n",
    "print(f\"Спостереження проводилось {years_of_observation} років\")"
   ]
  },
  {
   "cell_type": "markdown",
   "id": "28f57d20-eb06-427b-a169-71538cd8f4dd",
   "metadata": {},
   "source": [
    "## Завдання 16\n",
    "#### Знайти найпопулярніші гендерно-нейтральні імена, що присутні кожного року"
   ]
  },
  {
   "cell_type": "code",
   "execution_count": 17,
   "id": "091157e3-d616-4064-9600-9e9a53527fa0",
   "metadata": {},
   "outputs": [
    {
     "data": {
      "text/html": [
       "<div>\n",
       "<style scoped>\n",
       "    .dataframe tbody tr th:only-of-type {\n",
       "        vertical-align: middle;\n",
       "    }\n",
       "\n",
       "    .dataframe tbody tr th {\n",
       "        vertical-align: top;\n",
       "    }\n",
       "\n",
       "    .dataframe thead th {\n",
       "        text-align: right;\n",
       "    }\n",
       "</style>\n",
       "<table border=\"1\" class=\"dataframe\">\n",
       "  <thead>\n",
       "    <tr style=\"text-align: right;\">\n",
       "      <th></th>\n",
       "      <th>Name</th>\n",
       "      <th>Count</th>\n",
       "    </tr>\n",
       "  </thead>\n",
       "  <tbody>\n",
       "    <tr>\n",
       "      <th>0</th>\n",
       "      <td>James</td>\n",
       "      <td>5129096</td>\n",
       "    </tr>\n",
       "    <tr>\n",
       "      <th>1</th>\n",
       "      <td>John</td>\n",
       "      <td>5106590</td>\n",
       "    </tr>\n",
       "    <tr>\n",
       "      <th>2</th>\n",
       "      <td>Robert</td>\n",
       "      <td>4816785</td>\n",
       "    </tr>\n",
       "    <tr>\n",
       "      <th>3</th>\n",
       "      <td>William</td>\n",
       "      <td>4071368</td>\n",
       "    </tr>\n",
       "    <tr>\n",
       "      <th>4</th>\n",
       "      <td>Joseph</td>\n",
       "      <td>2580687</td>\n",
       "    </tr>\n",
       "    <tr>\n",
       "      <th>5</th>\n",
       "      <td>Jean</td>\n",
       "      <td>480901</td>\n",
       "    </tr>\n",
       "    <tr>\n",
       "      <th>6</th>\n",
       "      <td>Jesse</td>\n",
       "      <td>421406</td>\n",
       "    </tr>\n",
       "    <tr>\n",
       "      <th>7</th>\n",
       "      <td>Leslie</td>\n",
       "      <td>376587</td>\n",
       "    </tr>\n",
       "    <tr>\n",
       "      <th>8</th>\n",
       "      <td>Francis</td>\n",
       "      <td>312147</td>\n",
       "    </tr>\n",
       "    <tr>\n",
       "      <th>9</th>\n",
       "      <td>Lee</td>\n",
       "      <td>291691</td>\n",
       "    </tr>\n",
       "    <tr>\n",
       "      <th>10</th>\n",
       "      <td>Jessie</td>\n",
       "      <td>274931</td>\n",
       "    </tr>\n",
       "    <tr>\n",
       "      <th>11</th>\n",
       "      <td>Marion</td>\n",
       "      <td>259549</td>\n",
       "    </tr>\n",
       "    <tr>\n",
       "      <th>12</th>\n",
       "      <td>Johnnie</td>\n",
       "      <td>149953</td>\n",
       "    </tr>\n",
       "    <tr>\n",
       "      <th>13</th>\n",
       "      <td>Sidney</td>\n",
       "      <td>105185</td>\n",
       "    </tr>\n",
       "    <tr>\n",
       "      <th>14</th>\n",
       "      <td>Ollie</td>\n",
       "      <td>56482</td>\n",
       "    </tr>\n",
       "    <tr>\n",
       "      <th>15</th>\n",
       "      <td>Tommie</td>\n",
       "      <td>51315</td>\n",
       "    </tr>\n",
       "  </tbody>\n",
       "</table>\n",
       "</div>"
      ],
      "text/plain": [
       "       Name    Count\n",
       "0     James  5129096\n",
       "1      John  5106590\n",
       "2    Robert  4816785\n",
       "3   William  4071368\n",
       "4    Joseph  2580687\n",
       "5      Jean   480901\n",
       "6     Jesse   421406\n",
       "7    Leslie   376587\n",
       "8   Francis   312147\n",
       "9       Lee   291691\n",
       "10   Jessie   274931\n",
       "11   Marion   259549\n",
       "12  Johnnie   149953\n",
       "13   Sidney   105185\n",
       "14    Ollie    56482\n",
       "15   Tommie    51315"
      ]
     },
     "metadata": {},
     "output_type": "display_data"
    }
   ],
   "source": [
    "# Крок 1: Визначаємо загальну кількість років у наборі даних\n",
    "total_years = df['Year'].nunique()\n",
    "\n",
    "# Крок 2: Фільтруємо гендерно-нейтральні імена, які присутні в обох статях кожного року\n",
    "gender_neutral_names = (\n",
    "    df.groupby(['Name', 'Year'])['Gender']\n",
    "    .nunique()\n",
    "    .reset_index()\n",
    "    .query(\"Gender == 2\")\n",
    ")\n",
    "\n",
    "# Крок 3: Знаходимо імена, що з'являються кожного року\n",
    "gender_neutral_names_all_years = (\n",
    "    gender_neutral_names.groupby('Name')\n",
    "    .size()\n",
    "    .reset_index(name='Years')\n",
    "    .query('Years == @total_years')\n",
    ")\n",
    "\n",
    "# Крок 4: Рахуємо загальну кількість використань кожного імені та сортуємо за спаданням\n",
    "sorted_gender_neutral_names = (\n",
    "    df[df['Name'].isin(gender_neutral_names_all_years['Name'])]\n",
    "    .groupby('Name')['Count']\n",
    "    .sum()\n",
    "    .sort_values(ascending=False)\n",
    "    .reset_index()\n",
    ")\n",
    "\n",
    "# Відображення результату\n",
    "display(sorted_gender_neutral_names)"
   ]
  },
  {
   "cell_type": "markdown",
   "id": "b26a09e6-7980-489d-a3bf-955abafc27d1",
   "metadata": {},
   "source": [
    "## Завдання 17\n",
    "#### Знайти найпопулярніше ім'я серед непопулярних"
   ]
  },
  {
   "cell_type": "code",
   "execution_count": 18,
   "id": "2993aa33-05d6-4126-9739-cd56c7756012",
   "metadata": {},
   "outputs": [
    {
     "name": "stdout",
     "output_type": "stream",
     "text": [
      "Найбільш популярне серед непопулярних імен — це Celester. Ним назвали 160 разів.\n"
     ]
    }
   ],
   "source": [
    "# Крок 1: Фільтруємо набір даних для рядків, де \"Count\" дорівнює мінімальному значенню (5)\n",
    "min_count_value = df['Count'].min()\n",
    "least_popular_names_data = df[df['Count'] == min_count_value]\n",
    "\n",
    "# Крок 2: Групуємо дані за \"Name\" і обчислюємо загальний \"Count\" для кожного імені\n",
    "total_least_popular_names = least_popular_names_data.groupby('Name')['Count'].sum().reset_index()\n",
    "\n",
    "# Крок 3: Знаходимо \"найпопулярніше\" серед цих найменш популярних імен, вибираючи ім'я з найбільшим загальним числом\n",
    "most_popular_among_least = total_least_popular_names.sort_values(by='Count', ascending=False).head(1)\n",
    "\n",
    "# Витягуємо значення імені та кількості для фінального виводу\n",
    "most_popular_name = most_popular_among_least.iloc[0]['Name']\n",
    "most_popular_count = most_popular_among_least.iloc[0]['Count']\n",
    "\n",
    "# Виводимо результат у потрібному форматі\n",
    "print(f\"Найбільш популярне серед непопулярних імен — це {most_popular_name}. Ним назвали {most_popular_count} разів.\")"
   ]
  },
  {
   "cell_type": "markdown",
   "id": "1daa4f9f-f86a-48a1-a370-86cb5b34e301",
   "metadata": {},
   "source": [
    "## Завдання 18\n",
    "#### Побудувати графік розподілу кількості жіночих імен \"John\" та чоловічих імен \"Mary\" по роках "
   ]
  },
  {
   "cell_type": "code",
   "execution_count": 19,
   "id": "311a91cb-d21b-447c-ba43-bd19afeaa4aa",
   "metadata": {},
   "outputs": [
    {
     "data": {
      "image/png": "[encoded data removed]",
      "text/plain": [
       "<Figure size 1200x600 with 1 Axes>"
      ]
     },
     "metadata": {},
     "output_type": "display_data"
    }
   ],
   "source": [
    "import matplotlib.pyplot as plt\n",
    "\n",
    "# Фільтрація даних відносно імен\n",
    "female_john = df[(df['Name'] == 'John') & (df['Gender'] == 'F')]\n",
    "male_mary = df[(df['Name'] == 'Mary') & (df['Gender'] == 'M')]\n",
    "\n",
    "# Графік розподілу\n",
    "plt.figure(figsize=(12, 6))\n",
    "plt.plot(female_john['Year'], female_john['Count'], label=\"Female John\", color='pink')\n",
    "plt.plot(male_mary['Year'], male_mary['Count'], label=\"Male Mary\", color='blue')\n",
    "plt.xlabel(\"Роки\")\n",
    "plt.ylabel(\"Кількість\")\n",
    "plt.title(\"Розподіл між жіночим ім'ям John та чоловічим Mary\")\n",
    "plt.legend()\n",
    "plt.show()\n"
   ]
  }
 ],
 "metadata": {
  "kernelspec": {
   "display_name": "Python 3 (ipykernel)",
   "language": "python",
   "name": "python3"
  },
  "language_info": {
   "codemirror_mode": {
    "name": "ipython",
    "version": 3
   },
   "file_extension": ".py",
   "mimetype": "text/x-python",
   "name": "python",
   "nbconvert_exporter": "python",
   "pygments_lexer": "ipython3",
   "version": "3.12.3"
  }
 },
 "nbformat": 4,
 "nbformat_minor": 5
}
